{
 "cells": [
  {
   "cell_type": "code",
   "execution_count": 1,
   "metadata": {
    "execution": {
     "iopub.execute_input": "2022-08-16T09:09:43.558001Z",
     "iopub.status.busy": "2022-08-16T09:09:43.557564Z",
     "iopub.status.idle": "2022-08-16T09:09:43.564347Z",
     "shell.execute_reply": "2022-08-16T09:09:43.563483Z",
     "shell.execute_reply.started": "2022-08-16T09:09:43.557966Z"
    }
   },
   "outputs": [],
   "source": [
    "# modules\n",
    "import re\n",
    "import pandas as pd\n",
    "import numpy as np\n",
    "import seaborn as sns\n",
    "import matplotlib.pyplot as plt\n",
    "\n",
    "from sklearn.neighbors import KNeighborsClassifier\n",
    "from sklearn.svm import SVC\n",
    "from sklearn.ensemble import RandomForestClassifier\n",
    "from sklearn.model_selection import train_test_split, GridSearchCV, RandomizedSearchCV\n",
    "from sklearn.impute import SimpleImputer\n",
    "from sklearn.preprocessing import OneHotEncoder, MinMaxScaler, StandardScaler, RobustScaler, PolynomialFeatures\n",
    "from sklearn.compose import ColumnTransformer\n",
    "from sklearn.pipeline import Pipeline\n",
    "from sklearn.metrics import confusion_matrix\n",
    "\n",
    "from jcopml.tuning import random_search_params as rsp\n",
    "from jcopml.tuning.space import Integer, Real\n",
    "\n",
    "from Levenshtein import distance as lev"
   ]
  },
  {
   "cell_type": "code",
   "execution_count": 28,
   "metadata": {
    "execution": {
     "iopub.execute_input": "2022-08-16T08:43:52.555168Z",
     "iopub.status.busy": "2022-08-16T08:43:52.554505Z",
     "iopub.status.idle": "2022-08-16T08:43:52.607650Z",
     "shell.execute_reply": "2022-08-16T08:43:52.606280Z",
     "shell.execute_reply.started": "2022-08-16T08:43:52.555115Z"
    }
   },
   "outputs": [],
   "source": [
    "# df = pd.read_csv('../input/data/train.csv', index_col='PassengerId')\n",
    "# df = pd.read_csv('../input/data/test.csv', index_col='PassengerId')\n",
    "df = pd.read_csv('data/train.csv', index_col='PassengerId')"
   ]
  },
  {
   "cell_type": "code",
   "execution_count": 29,
   "metadata": {},
   "outputs": [
    {
     "data": {
      "text/html": [
       "<div>\n",
       "<style scoped>\n",
       "    .dataframe tbody tr th:only-of-type {\n",
       "        vertical-align: middle;\n",
       "    }\n",
       "\n",
       "    .dataframe tbody tr th {\n",
       "        vertical-align: top;\n",
       "    }\n",
       "\n",
       "    .dataframe thead th {\n",
       "        text-align: right;\n",
       "    }\n",
       "</style>\n",
       "<table border=\"1\" class=\"dataframe\">\n",
       "  <thead>\n",
       "    <tr style=\"text-align: right;\">\n",
       "      <th></th>\n",
       "      <th>Survived</th>\n",
       "      <th>Pclass</th>\n",
       "      <th>Name</th>\n",
       "      <th>Sex</th>\n",
       "      <th>Age</th>\n",
       "      <th>SibSp</th>\n",
       "      <th>Parch</th>\n",
       "      <th>Ticket</th>\n",
       "      <th>Fare</th>\n",
       "      <th>Cabin</th>\n",
       "      <th>Embarked</th>\n",
       "    </tr>\n",
       "    <tr>\n",
       "      <th>PassengerId</th>\n",
       "      <th></th>\n",
       "      <th></th>\n",
       "      <th></th>\n",
       "      <th></th>\n",
       "      <th></th>\n",
       "      <th></th>\n",
       "      <th></th>\n",
       "      <th></th>\n",
       "      <th></th>\n",
       "      <th></th>\n",
       "      <th></th>\n",
       "    </tr>\n",
       "  </thead>\n",
       "  <tbody>\n",
       "    <tr>\n",
       "      <th>1</th>\n",
       "      <td>0</td>\n",
       "      <td>3</td>\n",
       "      <td>Braund, Mr. Owen Harris</td>\n",
       "      <td>male</td>\n",
       "      <td>22.0</td>\n",
       "      <td>1</td>\n",
       "      <td>0</td>\n",
       "      <td>A/5 21171</td>\n",
       "      <td>7.2500</td>\n",
       "      <td>NaN</td>\n",
       "      <td>S</td>\n",
       "    </tr>\n",
       "    <tr>\n",
       "      <th>2</th>\n",
       "      <td>1</td>\n",
       "      <td>1</td>\n",
       "      <td>Cumings, Mrs. John Bradley (Florence Briggs Th...</td>\n",
       "      <td>female</td>\n",
       "      <td>38.0</td>\n",
       "      <td>1</td>\n",
       "      <td>0</td>\n",
       "      <td>PC 17599</td>\n",
       "      <td>71.2833</td>\n",
       "      <td>C85</td>\n",
       "      <td>C</td>\n",
       "    </tr>\n",
       "    <tr>\n",
       "      <th>3</th>\n",
       "      <td>1</td>\n",
       "      <td>3</td>\n",
       "      <td>Heikkinen, Miss. Laina</td>\n",
       "      <td>female</td>\n",
       "      <td>26.0</td>\n",
       "      <td>0</td>\n",
       "      <td>0</td>\n",
       "      <td>STON/O2. 3101282</td>\n",
       "      <td>7.9250</td>\n",
       "      <td>NaN</td>\n",
       "      <td>S</td>\n",
       "    </tr>\n",
       "    <tr>\n",
       "      <th>4</th>\n",
       "      <td>1</td>\n",
       "      <td>1</td>\n",
       "      <td>Futrelle, Mrs. Jacques Heath (Lily May Peel)</td>\n",
       "      <td>female</td>\n",
       "      <td>35.0</td>\n",
       "      <td>1</td>\n",
       "      <td>0</td>\n",
       "      <td>113803</td>\n",
       "      <td>53.1000</td>\n",
       "      <td>C123</td>\n",
       "      <td>S</td>\n",
       "    </tr>\n",
       "    <tr>\n",
       "      <th>5</th>\n",
       "      <td>0</td>\n",
       "      <td>3</td>\n",
       "      <td>Allen, Mr. William Henry</td>\n",
       "      <td>male</td>\n",
       "      <td>35.0</td>\n",
       "      <td>0</td>\n",
       "      <td>0</td>\n",
       "      <td>373450</td>\n",
       "      <td>8.0500</td>\n",
       "      <td>NaN</td>\n",
       "      <td>S</td>\n",
       "    </tr>\n",
       "  </tbody>\n",
       "</table>\n",
       "</div>"
      ],
      "text/plain": [
       "             Survived  Pclass  \\\n",
       "PassengerId                     \n",
       "1                   0       3   \n",
       "2                   1       1   \n",
       "3                   1       3   \n",
       "4                   1       1   \n",
       "5                   0       3   \n",
       "\n",
       "                                                          Name     Sex   Age  \\\n",
       "PassengerId                                                                    \n",
       "1                                      Braund, Mr. Owen Harris    male  22.0   \n",
       "2            Cumings, Mrs. John Bradley (Florence Briggs Th...  female  38.0   \n",
       "3                                       Heikkinen, Miss. Laina  female  26.0   \n",
       "4                 Futrelle, Mrs. Jacques Heath (Lily May Peel)  female  35.0   \n",
       "5                                     Allen, Mr. William Henry    male  35.0   \n",
       "\n",
       "             SibSp  Parch            Ticket     Fare Cabin Embarked  \n",
       "PassengerId                                                          \n",
       "1                1      0         A/5 21171   7.2500   NaN        S  \n",
       "2                1      0          PC 17599  71.2833   C85        C  \n",
       "3                0      0  STON/O2. 3101282   7.9250   NaN        S  \n",
       "4                1      0            113803  53.1000  C123        S  \n",
       "5                0      0            373450   8.0500   NaN        S  "
      ]
     },
     "execution_count": 29,
     "metadata": {},
     "output_type": "execute_result"
    }
   ],
   "source": [
    "df.head()"
   ]
  },
  {
   "cell_type": "code",
   "execution_count": 30,
   "metadata": {},
   "outputs": [
    {
     "data": {
      "text/plain": [
       "(891, 11)"
      ]
     },
     "execution_count": 30,
     "metadata": {},
     "output_type": "execute_result"
    }
   ],
   "source": [
    "df.shape"
   ]
  },
  {
   "cell_type": "code",
   "execution_count": 31,
   "metadata": {},
   "outputs": [],
   "source": [
    "df['Title'] = df.Name.apply(lambda x: re.findall(' ([a-zA-Z]+)\\.', x)[0])\n",
    "df['Title'] = df.Title.replace(['Major', 'Sir', 'Jonkheer', 'Dr','Col','Don', 'Capt','Rev'], 'Mr')\n",
    "df['Title'] = df.Title.replace(['Ms','Lady', 'Countess','Dona'], 'Mrs')\n",
    "df['Title'] = df.Title.replace(['Mme','Mlle'], 'Miss')"
   ]
  },
  {
   "cell_type": "code",
   "execution_count": 32,
   "metadata": {},
   "outputs": [],
   "source": [
    "df['Age'] = df.groupby(['Pclass', 'Title'])['Age'].apply(lambda x: x.fillna(x.mean()))"
   ]
  },
  {
   "cell_type": "code",
   "execution_count": 33,
   "metadata": {},
   "outputs": [],
   "source": [
    "df['Embarked'] = df['Embarked'].fillna('S')"
   ]
  },
  {
   "cell_type": "code",
   "execution_count": 34,
   "metadata": {},
   "outputs": [],
   "source": [
    "df['Cabin'] = df['Cabin'].fillna('N')\n",
    "df['Cabin'] = df['Cabin'].apply(lambda x: x[0])\n",
    "df['Cabin'] = df['Cabin'].replace('T', 'A')\n",
    "df['Cabin'] = df['Cabin'].apply(lambda x: 0 if x in ['A', 'B', 'C', 'D','E', 'F', 'G'] else 1)"
   ]
  },
  {
   "cell_type": "code",
   "execution_count": 35,
   "metadata": {},
   "outputs": [
    {
     "data": {
      "text/plain": [
       "array([1, 0], dtype=int64)"
      ]
     },
     "execution_count": 35,
     "metadata": {},
     "output_type": "execute_result"
    }
   ],
   "source": [
    "df.Cabin.unique()"
   ]
  },
  {
   "cell_type": "code",
   "execution_count": 8,
   "metadata": {},
   "outputs": [],
   "source": [
    "df.drop(columns=['Name', 'Ticket'], inplace=True)"
   ]
  },
  {
   "cell_type": "markdown",
   "metadata": {},
   "source": [
    "# Dataset Splitting"
   ]
  },
  {
   "cell_type": "code",
   "execution_count": 9,
   "metadata": {
    "execution": {
     "iopub.execute_input": "2022-08-16T08:48:55.404757Z",
     "iopub.status.busy": "2022-08-16T08:48:55.404302Z",
     "iopub.status.idle": "2022-08-16T08:48:55.422675Z",
     "shell.execute_reply": "2022-08-16T08:48:55.421351Z",
     "shell.execute_reply.started": "2022-08-16T08:48:55.404718Z"
    }
   },
   "outputs": [
    {
     "data": {
      "text/plain": [
       "((712, 8), (179, 8), (712,), (179,))"
      ]
     },
     "execution_count": 9,
     "metadata": {},
     "output_type": "execute_result"
    }
   ],
   "source": [
    "X = df.drop(columns='Survived')\n",
    "y = df.Survived\n",
    "\n",
    "X_train, X_test, y_train, y_test = train_test_split(X, y, test_size=0.2, stratify=y, random_state=42)\n",
    "X_train.shape, X_test.shape, y_train.shape, y_test.shape"
   ]
  },
  {
   "cell_type": "markdown",
   "metadata": {},
   "source": [
    "# Preprocessor"
   ]
  },
  {
   "cell_type": "code",
   "execution_count": 26,
   "metadata": {
    "execution": {
     "iopub.execute_input": "2022-08-16T09:13:05.480784Z",
     "iopub.status.busy": "2022-08-16T09:13:05.480354Z",
     "iopub.status.idle": "2022-08-16T09:13:05.489001Z",
     "shell.execute_reply": "2022-08-16T09:13:05.487688Z",
     "shell.execute_reply.started": "2022-08-16T09:13:05.480747Z"
    }
   },
   "outputs": [],
   "source": [
    "numerical_pipeline = Pipeline([\n",
    "    ('imputer', SimpleImputer(strategy='mean')),\n",
    "    ('poly', PolynomialFeatures())\n",
    "])\n",
    "\n",
    "categorical_pipeline = Pipeline([\n",
    "    ('imputer', SimpleImputer(strategy='most_frequent')),\n",
    "    ('onehot', OneHotEncoder(handle_unknown='ignore'))\n",
    "])\n",
    "\n",
    "preprocessor = ColumnTransformer([\n",
    "    ('numeric', numerical_pipeline, ['SibSp', 'Parch', 'Fare']),\n",
    "    ('categoric', categorical_pipeline, ['Pclass', 'Sex', 'SibSp', 'Embarked', 'Title'])\n",
    "])"
   ]
  },
  {
   "cell_type": "markdown",
   "metadata": {},
   "source": [
    "- TODO:\n",
    "    - Tambahin function buat interfal value parameternya"
   ]
  },
  {
   "cell_type": "markdown",
   "metadata": {},
   "source": [
    "# RF"
   ]
  },
  {
   "cell_type": "code",
   "execution_count": 30,
   "metadata": {
    "execution": {
     "iopub.execute_input": "2022-08-16T09:09:59.530464Z",
     "iopub.status.busy": "2022-08-16T09:09:59.529755Z",
     "iopub.status.idle": "2022-08-16T09:09:59.536043Z",
     "shell.execute_reply": "2022-08-16T09:09:59.535142Z",
     "shell.execute_reply.started": "2022-08-16T09:09:59.530427Z"
    }
   },
   "outputs": [],
   "source": [
    "pipeline = Pipeline([\n",
    "    ('prep', preprocessor),\n",
    "    ('algo', RandomForestClassifier(n_jobs=-1, random_state=42))\n",
    "])\n",
    "\n",
    "parameter = {\n",
    "    'prep__numeric__poly__degree': Integer(low=2, high=5),\n",
    "    'prep__numeric__poly__interaction_only': [True, False],\n",
    "    'algo__n_estimators': Integer(low=100, high=100),\n",
    "    'algo__max_depth': Integer(low=45, high=60),\n",
    "    'algo__max_features': Real(low=0.5, high=0.6, prior='uniform'),\n",
    "    'algo__min_samples_leaf': Integer(low=10, high=13)\n",
    "}"
   ]
  },
  {
   "cell_type": "code",
   "execution_count": 33,
   "metadata": {},
   "outputs": [
    {
     "name": "stdout",
     "output_type": "stream",
     "text": [
      "Fitting 3 folds for each of 50 candidates, totalling 150 fits\n"
     ]
    },
    {
     "name": "stderr",
     "output_type": "stream",
     "text": [
      "[Parallel(n_jobs=-1)]: Using backend LokyBackend with 8 concurrent workers.\n",
      "[Parallel(n_jobs=-1)]: Done  34 tasks      | elapsed:    2.3s\n",
      "[Parallel(n_jobs=-1)]: Done 150 out of 150 | elapsed:    9.5s finished\n"
     ]
    },
    {
     "name": "stdout",
     "output_type": "stream",
     "text": [
      "\n",
      "Best params : {'algo__max_depth': 51, 'algo__max_features': 0.5648663826615089, 'algo__min_samples_leaf': 10, 'algo__n_estimators': 100, 'prep__numeric__poly__degree': 2, 'prep__numeric__poly__interaction_only': False}\n",
      "Best score  : 0.8188195109267337\n",
      "Train score : 0.8665730337078652\n",
      "Test score  : 0.8435754189944135\n",
      "\n"
     ]
    }
   ],
   "source": [
    "model = RandomizedSearchCV(pipeline, parameter, cv=3, n_iter=50, n_jobs=-1, verbose=1)\n",
    "model.fit(X_train, y_train)\n",
    "\n",
    "print(f'''\n",
    "Best params : {model.best_params_}\n",
    "Best score  : {model.best_score_}\n",
    "Train score : {model.score(X_train, y_train)}\n",
    "Test score  : {model.score(X_test, y_test)}\n",
    "''')"
   ]
  },
  {
   "cell_type": "code",
   "execution_count": 21,
   "metadata": {},
   "outputs": [
    {
     "name": "stdout",
     "output_type": "stream",
     "text": [
      "Fitting 3 folds for each of 50 candidates, totalling 150 fits\n"
     ]
    },
    {
     "name": "stderr",
     "output_type": "stream",
     "text": [
      "[Parallel(n_jobs=-1)]: Using backend LokyBackend with 8 concurrent workers.\n",
      "[Parallel(n_jobs=-1)]: Done  34 tasks      | elapsed:    2.3s\n",
      "[Parallel(n_jobs=-1)]: Done 150 out of 150 | elapsed:    9.2s finished\n"
     ]
    },
    {
     "name": "stdout",
     "output_type": "stream",
     "text": [
      "\n",
      "Best params : {'algo__max_depth': 48, 'algo__max_features': 0.5768062890209851, 'algo__min_samples_leaf': 10, 'algo__n_estimators': 100, 'prep__numeric__poly__degree': 3, 'prep__numeric__poly__interaction_only': True}\n",
      "Best score  : 0.8216383599853444\n",
      "Train score : 0.8525280898876404\n",
      "Test score  : 0.8435754189944135\n",
      "\n"
     ]
    }
   ],
   "source": [
    "# fourth submit\n",
    "model = RandomizedSearchCV(pipeline, parameter, cv=3, n_iter=50, n_jobs=-1, verbose=1)\n",
    "model.fit(X_train, y_train)\n",
    "\n",
    "print(f'''\n",
    "Best params : {model.best_params_}\n",
    "Best score  : {model.best_score_}\n",
    "Train score : {model.score(X_train, y_train)}\n",
    "Test score  : {model.score(X_test, y_test)}\n",
    "''')"
   ]
  },
  {
   "cell_type": "markdown",
   "metadata": {},
   "source": [
    "### XGBoosting"
   ]
  },
  {
   "cell_type": "code",
   "execution_count": 34,
   "metadata": {},
   "outputs": [],
   "source": [
    "from xgboost import XGBClassifier\n",
    "\n",
    "pipeline = Pipeline([\n",
    "    ('prep', preprocessor),\n",
    "    ('algo', XGBClassifier(n_jobs=-1, random_state=42))\n",
    "])\n",
    "\n",
    "parameter = {\n",
    "    'prep__numeric__poly__degree': Integer(low=1, high=4),\n",
    "    'prep__numeric__poly__interaction_only': [True, False],\n",
    "    'algo__max_depth': Integer(low=1, high=10),\n",
    "    'algo__learning_rate': Real(low=-1, high=1, prior='log-uniform'),\n",
    "    'algo__n_estimators': Integer(low=150, high=200),\n",
    "    'algo__subsample': Real(low=0.3, high=0.8, prior='uniform'),\n",
    "    'algo__gamma': Integer(low=1, high=10),\n",
    "    'algo__colsample_bytree': Real(low=0.1, high=1, prior='uniform'),\n",
    "    'algo__reg_alpha': Real(low=0, high=0.3, prior='log-uniform'),\n",
    "    'algo__reg_lambda': Real(low=-3, high=1, prior='log-uniform')\n",
    "}"
   ]
  },
  {
   "cell_type": "code",
   "execution_count": null,
   "metadata": {},
   "outputs": [],
   "source": [
    "from xgboost import XGBClassifier\n",
    "\n",
    "pipeline = Pipeline([\n",
    "    ('prep', preprocessor),\n",
    "    ('algo', XGBClassifier(n_jobs=-1, random_state=42))\n",
    "])\n",
    "\n",
    "parameter = {\n",
    "    'prep__numeric__poly__degree': [2],\n",
    "    'prep__numeric__poly__interaction_only': [False],\n",
    "    'algo__colsample_bytree': [0.6336897488208131],\n",
    "    'algo__gamma': [6],\n",
    "    'algo__learning_rate': [1.261652738713559],\n",
    "    'algo__max_depth': [6],\n",
    "    'algo__n_estimators': [183],\n",
    "    'algo__reg_alpha': [1.818124622936793],\n",
    "    'algo__reg_lambda': [0.029104104586515068],\n",
    "    'algo__subsample': [0.6113613002552669]\n",
    "}"
   ]
  },
  {
   "cell_type": "code",
   "execution_count": 44,
   "metadata": {},
   "outputs": [
    {
     "name": "stdout",
     "output_type": "stream",
     "text": [
      "Fitting 3 folds for each of 10 candidates, totalling 30 fits\n"
     ]
    },
    {
     "name": "stderr",
     "output_type": "stream",
     "text": [
      "[Parallel(n_jobs=-1)]: Using backend LokyBackend with 8 concurrent workers.\n",
      "[Parallel(n_jobs=-1)]: Done   2 tasks      | elapsed:    0.1s\n",
      "[Parallel(n_jobs=-1)]: Done  22 out of  30 | elapsed:    0.4s remaining:    0.1s\n",
      "[Parallel(n_jobs=-1)]: Done  30 out of  30 | elapsed:    0.6s finished\n"
     ]
    },
    {
     "name": "stdout",
     "output_type": "stream",
     "text": [
      "\n",
      "Best params : {'algo__colsample_bytree': 0.6336897488208131, 'algo__gamma': 6, 'algo__learning_rate': 1.261652738713559, 'algo__max_depth': 6, 'algo__n_estimators': 183, 'algo__reg_alpha': 1.818124622936793, 'algo__reg_lambda': 0.029104104586515068, 'algo__subsample': 0.6113613002552669, 'prep__numeric__poly__degree': 2, 'prep__numeric__poly__interaction_only': False}\n",
      "Best score  : 0.8174307697762649\n",
      "Train score : 0.848314606741573\n",
      "Train score : 0.8435754189944135\n",
      "\n"
     ]
    }
   ],
   "source": [
    "model = RandomizedSearchCV(pipeline, parameter, cv=3, n_iter=10, n_jobs=-1, verbose=5)\n",
    "model.fit(X_train, y_train)\n",
    "\n",
    "print(f'''\n",
    "Best params : {model.best_params_}\n",
    "Best score  : {model.best_score_}\n",
    "Train score : {model.score(X_train, y_train)}\n",
    "Train score : {model.score(X_test, y_test)}\n",
    "''')"
   ]
  },
  {
   "cell_type": "code",
   "execution_count": 169,
   "metadata": {},
   "outputs": [
    {
     "name": "stdout",
     "output_type": "stream",
     "text": [
      "Fitting 3 folds for each of 50 candidates, totalling 150 fits\n"
     ]
    },
    {
     "name": "stderr",
     "output_type": "stream",
     "text": [
      "[Parallel(n_jobs=-1)]: Using backend LokyBackend with 8 concurrent workers.\n",
      "[Parallel(n_jobs=-1)]: Done   2 tasks      | elapsed:    0.0s\n",
      "[Parallel(n_jobs=-1)]: Done  96 tasks      | elapsed:    1.5s\n",
      "[Parallel(n_jobs=-1)]: Done 135 out of 150 | elapsed:    2.0s remaining:    0.1s\n",
      "[Parallel(n_jobs=-1)]: Done 150 out of 150 | elapsed:    2.2s finished\n"
     ]
    },
    {
     "name": "stdout",
     "output_type": "stream",
     "text": [
      "\n",
      "Best params : {'algo__colsample_bytree': 0.5865413989861701, 'algo__gamma': 3, 'algo__learning_rate': 0.25178887430355257, 'algo__max_depth': 8, 'algo__n_estimators': 200, 'algo__reg_alpha': 1.198380423419617, 'algo__reg_lambda': 0.0048018718482369, 'algo__subsample': 0.49151551034421803, 'prep__numeric__poly__degree': 3, 'prep__numeric__poly__interaction_only': True}\n",
      "Best score  : 0.8300653594771242\n",
      "Train score : 0.8356741573033708\n",
      "Train score : 0.8156424581005587\n",
      "\n"
     ]
    }
   ],
   "source": [
    "# third submit\n",
    "XGb = RandomizedSearchCV(pipeline, parameter, cv=3, n_iter=50, n_jobs=-1, verbose=5)\n",
    "XGb.fit(X_train, y_train)\n",
    "\n",
    "print(f'''\n",
    "Best params : {XGb.best_params_}\n",
    "Best score  : {XGb.best_score_}\n",
    "Train score : {XGb.score(X_train, y_train)}\n",
    "Train score : {XGb.score(X_test, y_test)}\n",
    "''')"
   ]
  },
  {
   "cell_type": "code",
   "execution_count": 12,
   "metadata": {
    "execution": {
     "iopub.execute_input": "2022-08-16T09:13:08.855999Z",
     "iopub.status.busy": "2022-08-16T09:13:08.855566Z",
     "iopub.status.idle": "2022-08-16T09:13:11.576626Z",
     "shell.execute_reply": "2022-08-16T09:13:11.575217Z",
     "shell.execute_reply.started": "2022-08-16T09:13:08.855962Z"
    }
   },
   "outputs": [
    {
     "name": "stdout",
     "output_type": "stream",
     "text": [
      "Fitting 3 folds for each of 81 candidates, totalling 243 fits\n"
     ]
    },
    {
     "name": "stderr",
     "output_type": "stream",
     "text": [
      "[Parallel(n_jobs=-1)]: Using backend LokyBackend with 8 concurrent workers.\n",
      "[Parallel(n_jobs=-1)]: Done   2 tasks      | elapsed:    5.4s\n",
      "[Parallel(n_jobs=-1)]: Done  56 tasks      | elapsed:   11.7s\n",
      "[Parallel(n_jobs=-1)]: Done 146 tasks      | elapsed:   22.5s\n",
      "[Parallel(n_jobs=-1)]: Done 243 out of 243 | elapsed:   36.0s finished\n"
     ]
    },
    {
     "name": "stdout",
     "output_type": "stream",
     "text": [
      "\n",
      "Best params : {'algo__max_depth': 20, 'algo__max_features': 0.6, 'algo__min_samples_leaf': 10, 'algo__n_estimators': 200}\n",
      "Best score  : 0.8230448297462445\n",
      "Train score : 0.851123595505618\n",
      "Train score : 0.8212290502793296\n",
      "\n",
      "Wall time: 36.9 s\n"
     ]
    }
   ],
   "source": [
    "# second submit\n",
    "%%time \n",
    "model = GridSearchCV(pipeline, param_grid=parameter, cv=3, n_jobs=-1, verbose=5)\n",
    "model.fit(X_train, y_train)\n",
    "\n",
    "print(f'''\n",
    "Best params : {model.best_params_}\n",
    "Best score  : {model.best_score_}\n",
    "Train score : {model.score(X_train, y_train)}\n",
    "Train score : {model.score(X_test, y_test)}\n",
    "''')"
   ]
  },
  {
   "cell_type": "markdown",
   "metadata": {},
   "source": [
    "### CatBoosting"
   ]
  },
  {
   "cell_type": "code",
   "execution_count": 28,
   "metadata": {},
   "outputs": [],
   "source": [
    "from catboost import CatBoostClassifier\n",
    "\n",
    "pipeline = Pipeline([\n",
    "    ('prep', preprocessor),\n",
    "    ('algo', CatBoostClassifier(iterations=1000,\n",
    "                                random_strength=1,\n",
    "                                subsample=0.76,\n",
    "                                eval_metric='Accuracy',\n",
    "                                loss_function= 'Logloss',\n",
    "                                #bootstrap_type= 'Bernoulli',\n",
    "                                bagging_temperature=0.80, \n",
    "#                                 cat_features=cats,\n",
    "                                verbose=100\n",
    "                               ))\n",
    "    ])\n",
    "\n",
    "parameter = {\n",
    "    'prep__numeric__poly__degree': Integer(low=4, high=6),\n",
    "    'prep__numeric__poly__interaction_only': [True, False],\n",
    "    'algo__max_depth': Integer(low=1, high=10),\n",
    "    'algo__learning_rate': Real(low=-2, high=0, prior='log-uniform'),\n",
    "}"
   ]
  },
  {
   "cell_type": "code",
   "execution_count": 37,
   "metadata": {},
   "outputs": [
    {
     "name": "stdout",
     "output_type": "stream",
     "text": [
      "Fitting 3 folds for each of 5 candidates, totalling 15 fits\n"
     ]
    },
    {
     "name": "stderr",
     "output_type": "stream",
     "text": [
      "[Parallel(n_jobs=-1)]: Using backend LokyBackend with 8 concurrent workers.\n",
      "[Parallel(n_jobs=-1)]: Done  15 out of  15 | elapsed:  1.6min finished\n"
     ]
    },
    {
     "name": "stdout",
     "output_type": "stream",
     "text": [
      "0:\tlearn: 0.8244382\ttotal: 2.5ms\tremaining: 2.49s\n",
      "100:\tlearn: 0.9339888\ttotal: 146ms\tremaining: 1.3s\n",
      "200:\tlearn: 0.9367978\ttotal: 303ms\tremaining: 1.2s\n",
      "300:\tlearn: 0.9367978\ttotal: 451ms\tremaining: 1.05s\n",
      "400:\tlearn: 0.9367978\ttotal: 597ms\tremaining: 892ms\n",
      "500:\tlearn: 0.9367978\ttotal: 762ms\tremaining: 759ms\n",
      "600:\tlearn: 0.9367978\ttotal: 936ms\tremaining: 621ms\n",
      "700:\tlearn: 0.9367978\ttotal: 1.1s\tremaining: 469ms\n",
      "800:\tlearn: 0.9367978\ttotal: 1.24s\tremaining: 307ms\n",
      "900:\tlearn: 0.9367978\ttotal: 1.38s\tremaining: 151ms\n",
      "999:\tlearn: 0.9367978\ttotal: 1.52s\tremaining: 0us\n",
      "\n",
      "Best params : {'algo__learning_rate': 0.3702520371721318, 'algo__max_depth': 5, 'prep__numeric__poly__degree': 6, 'prep__numeric__poly__interaction_only': True}\n",
      "Best score  : 0.8047961800754057\n",
      "Train score : 0.9367977528089888\n",
      "Test score  : 0.7932960893854749\n",
      "\n",
      "Wall time: 1min 38s\n"
     ]
    }
   ],
   "source": [
    "%%time\n",
    "model = RandomizedSearchCV(pipeline, parameter, cv=3, n_iter=5, n_jobs=-1, verbose=1)\n",
    "model.fit(X_train, y_train)\n",
    "\n",
    "print(f'''\n",
    "Best params : {model.best_params_}\n",
    "Best score  : {model.best_score_}\n",
    "Train score : {model.score(X_train, y_train)}\n",
    "Test score  : {model.score(X_test, y_test)}\n",
    "''')"
   ]
  },
  {
   "cell_type": "markdown",
   "metadata": {},
   "source": [
    "### save model"
   ]
  },
  {
   "cell_type": "code",
   "execution_count": 54,
   "metadata": {},
   "outputs": [],
   "source": [
    "import os, pickle"
   ]
  },
  {
   "cell_type": "code",
   "execution_count": 55,
   "metadata": {},
   "outputs": [],
   "source": [
    "os.makedirs('model', exist_ok=True)\n",
    "pickle.dump(model, open('model/titanic.pkl', 'wb'))"
   ]
  },
  {
   "cell_type": "markdown",
   "metadata": {},
   "source": [
    "### submission"
   ]
  },
  {
   "cell_type": "code",
   "execution_count": 45,
   "metadata": {},
   "outputs": [],
   "source": [
    "predict = pd.read_csv('data/test.csv', index_col='PassengerId')"
   ]
  },
  {
   "cell_type": "code",
   "execution_count": 46,
   "metadata": {},
   "outputs": [],
   "source": [
    "predict['Title'] = predict.Name.apply(lambda x: re.findall(' ([a-zA-Z]+)\\.', x)[0])\n",
    "predict['Title'] = predict.Title.replace(['Major', 'Sir', 'Jonkheer', 'Dr','Col','Don', 'Capt','Rev'], 'Mr')\n",
    "predict['Title'] = predict.Title.replace(['Ms','Lady', 'Countess','Dona'], 'Mrs')\n",
    "predict['Title'] = predict.Title.replace(['Mme','Mlle'], 'Miss')"
   ]
  },
  {
   "cell_type": "code",
   "execution_count": 47,
   "metadata": {},
   "outputs": [],
   "source": [
    "predict['Age'] = predict.groupby(['Pclass', 'Title'])['Age'].apply(lambda x: x.fillna(x.mean()))"
   ]
  },
  {
   "cell_type": "code",
   "execution_count": 48,
   "metadata": {},
   "outputs": [],
   "source": [
    "predict['Embarked'] = predict['Embarked'].fillna('S')"
   ]
  },
  {
   "cell_type": "code",
   "execution_count": 49,
   "metadata": {},
   "outputs": [],
   "source": [
    "predict['Fare'] = predict.groupby(['Pclass', 'Title'])['Fare'].apply(lambda x: x.fillna(x.mean()))"
   ]
  },
  {
   "cell_type": "code",
   "execution_count": 50,
   "metadata": {},
   "outputs": [],
   "source": [
    "predict.drop(columns=['Name', 'Ticket', 'Cabin'], inplace=True)"
   ]
  },
  {
   "cell_type": "code",
   "execution_count": 51,
   "metadata": {},
   "outputs": [],
   "source": [
    "submission = pd.read_csv('data/gender_submission.csv')\n",
    "submission['Survived'] = model.predict(predict)"
   ]
  },
  {
   "cell_type": "code",
   "execution_count": 52,
   "metadata": {},
   "outputs": [],
   "source": [
    "submission.to_csv('submission.csv', index=False)"
   ]
  },
  {
   "cell_type": "code",
   "execution_count": 53,
   "metadata": {},
   "outputs": [
    {
     "data": {
      "text/html": [
       "<div>\n",
       "<style scoped>\n",
       "    .dataframe tbody tr th:only-of-type {\n",
       "        vertical-align: middle;\n",
       "    }\n",
       "\n",
       "    .dataframe tbody tr th {\n",
       "        vertical-align: top;\n",
       "    }\n",
       "\n",
       "    .dataframe thead th {\n",
       "        text-align: right;\n",
       "    }\n",
       "</style>\n",
       "<table border=\"1\" class=\"dataframe\">\n",
       "  <thead>\n",
       "    <tr style=\"text-align: right;\">\n",
       "      <th></th>\n",
       "      <th>PassengerId</th>\n",
       "      <th>Survived</th>\n",
       "    </tr>\n",
       "  </thead>\n",
       "  <tbody>\n",
       "    <tr>\n",
       "      <th>0</th>\n",
       "      <td>892</td>\n",
       "      <td>0</td>\n",
       "    </tr>\n",
       "    <tr>\n",
       "      <th>1</th>\n",
       "      <td>893</td>\n",
       "      <td>0</td>\n",
       "    </tr>\n",
       "    <tr>\n",
       "      <th>2</th>\n",
       "      <td>894</td>\n",
       "      <td>0</td>\n",
       "    </tr>\n",
       "    <tr>\n",
       "      <th>3</th>\n",
       "      <td>895</td>\n",
       "      <td>0</td>\n",
       "    </tr>\n",
       "    <tr>\n",
       "      <th>4</th>\n",
       "      <td>896</td>\n",
       "      <td>1</td>\n",
       "    </tr>\n",
       "    <tr>\n",
       "      <th>...</th>\n",
       "      <td>...</td>\n",
       "      <td>...</td>\n",
       "    </tr>\n",
       "    <tr>\n",
       "      <th>413</th>\n",
       "      <td>1305</td>\n",
       "      <td>0</td>\n",
       "    </tr>\n",
       "    <tr>\n",
       "      <th>414</th>\n",
       "      <td>1306</td>\n",
       "      <td>1</td>\n",
       "    </tr>\n",
       "    <tr>\n",
       "      <th>415</th>\n",
       "      <td>1307</td>\n",
       "      <td>0</td>\n",
       "    </tr>\n",
       "    <tr>\n",
       "      <th>416</th>\n",
       "      <td>1308</td>\n",
       "      <td>0</td>\n",
       "    </tr>\n",
       "    <tr>\n",
       "      <th>417</th>\n",
       "      <td>1309</td>\n",
       "      <td>1</td>\n",
       "    </tr>\n",
       "  </tbody>\n",
       "</table>\n",
       "<p>418 rows × 2 columns</p>\n",
       "</div>"
      ],
      "text/plain": [
       "     PassengerId  Survived\n",
       "0            892         0\n",
       "1            893         0\n",
       "2            894         0\n",
       "3            895         0\n",
       "4            896         1\n",
       "..           ...       ...\n",
       "413         1305         0\n",
       "414         1306         1\n",
       "415         1307         0\n",
       "416         1308         0\n",
       "417         1309         1\n",
       "\n",
       "[418 rows x 2 columns]"
      ]
     },
     "execution_count": 53,
     "metadata": {},
     "output_type": "execute_result"
    }
   ],
   "source": [
    "submission"
   ]
  }
 ],
 "metadata": {
  "kernelspec": {
   "display_name": "Python [conda env:learning]",
   "language": "python",
   "name": "conda-env-learning-py"
  },
  "language_info": {
   "codemirror_mode": {
    "name": "ipython",
    "version": 3
   },
   "file_extension": ".py",
   "mimetype": "text/x-python",
   "name": "python",
   "nbconvert_exporter": "python",
   "pygments_lexer": "ipython3",
   "version": "3.7.6"
  },
  "varInspector": {
   "cols": {
    "lenName": 16,
    "lenType": 16,
    "lenVar": 40
   },
   "kernels_config": {
    "python": {
     "delete_cmd_postfix": "",
     "delete_cmd_prefix": "del ",
     "library": "var_list.py",
     "varRefreshCmd": "print(var_dic_list())"
    },
    "r": {
     "delete_cmd_postfix": ") ",
     "delete_cmd_prefix": "rm(",
     "library": "var_list.r",
     "varRefreshCmd": "cat(var_dic_list()) "
    }
   },
   "types_to_exclude": [
    "module",
    "function",
    "builtin_function_or_method",
    "instance",
    "_Feature"
   ],
   "window_display": false
  }
 },
 "nbformat": 4,
 "nbformat_minor": 4
}
