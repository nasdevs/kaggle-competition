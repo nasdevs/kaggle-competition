{
 "cells": [
  {
   "cell_type": "markdown",
   "id": "064dc4c6",
   "metadata": {
    "papermill": {
     "duration": 0.008219,
     "end_time": "2022-09-01T15:04:28.045795",
     "exception": false,
     "start_time": "2022-09-01T15:04:28.037576",
     "status": "completed"
    },
    "tags": []
   },
   "source": [
    "# Survival Prediction with Random Forest Score: 79.18%"
   ]
  },
  {
   "cell_type": "code",
   "execution_count": 1,
   "id": "bc8bff1a",
   "metadata": {
    "execution": {
     "iopub.execute_input": "2022-09-01T15:04:28.060443Z",
     "iopub.status.busy": "2022-09-01T15:04:28.059976Z",
     "iopub.status.idle": "2022-09-01T15:04:29.736221Z",
     "shell.execute_reply": "2022-09-01T15:04:29.734912Z"
    },
    "papermill": {
     "duration": 1.687117,
     "end_time": "2022-09-01T15:04:29.739210",
     "exception": false,
     "start_time": "2022-09-01T15:04:28.052093",
     "status": "completed"
    },
    "tags": []
   },
   "outputs": [],
   "source": [
    "import re\n",
    "import numpy as np\n",
    "import pandas as pd\n",
    "import seaborn as sns\n",
    "import matplotlib.pyplot as plt\n",
    "\n",
    "from sklearn.ensemble import RandomForestClassifier\n",
    "from sklearn.model_selection import train_test_split, GridSearchCV\n",
    "from sklearn.impute import SimpleImputer\n",
    "from sklearn.preprocessing import OneHotEncoder, PolynomialFeatures, StandardScaler\n",
    "from sklearn.compose import ColumnTransformer\n",
    "from sklearn.pipeline import Pipeline\n",
    "from sklearn.metrics import confusion_matrix"
   ]
  },
  {
   "cell_type": "markdown",
   "id": "1b31ea61",
   "metadata": {
    "papermill": {
     "duration": 0.005234,
     "end_time": "2022-09-01T15:04:29.750586",
     "exception": false,
     "start_time": "2022-09-01T15:04:29.745352",
     "status": "completed"
    },
    "tags": []
   },
   "source": [
    "# Import Data"
   ]
  },
  {
   "cell_type": "code",
   "execution_count": 2,
   "id": "2d96879c",
   "metadata": {
    "execution": {
     "iopub.execute_input": "2022-09-01T15:04:29.763702Z",
     "iopub.status.busy": "2022-09-01T15:04:29.763057Z",
     "iopub.status.idle": "2022-09-01T15:04:29.815260Z",
     "shell.execute_reply": "2022-09-01T15:04:29.814340Z"
    },
    "papermill": {
     "duration": 0.061799,
     "end_time": "2022-09-01T15:04:29.817836",
     "exception": false,
     "start_time": "2022-09-01T15:04:29.756037",
     "status": "completed"
    },
    "tags": []
   },
   "outputs": [
    {
     "data": {
      "text/html": [
       "<div>\n",
       "<style scoped>\n",
       "    .dataframe tbody tr th:only-of-type {\n",
       "        vertical-align: middle;\n",
       "    }\n",
       "\n",
       "    .dataframe tbody tr th {\n",
       "        vertical-align: top;\n",
       "    }\n",
       "\n",
       "    .dataframe thead th {\n",
       "        text-align: right;\n",
       "    }\n",
       "</style>\n",
       "<table border=\"1\" class=\"dataframe\">\n",
       "  <thead>\n",
       "    <tr style=\"text-align: right;\">\n",
       "      <th></th>\n",
       "      <th>Survived</th>\n",
       "      <th>Pclass</th>\n",
       "      <th>Name</th>\n",
       "      <th>Sex</th>\n",
       "      <th>Age</th>\n",
       "      <th>SibSp</th>\n",
       "      <th>Parch</th>\n",
       "      <th>Ticket</th>\n",
       "      <th>Fare</th>\n",
       "      <th>Cabin</th>\n",
       "      <th>Embarked</th>\n",
       "    </tr>\n",
       "    <tr>\n",
       "      <th>PassengerId</th>\n",
       "      <th></th>\n",
       "      <th></th>\n",
       "      <th></th>\n",
       "      <th></th>\n",
       "      <th></th>\n",
       "      <th></th>\n",
       "      <th></th>\n",
       "      <th></th>\n",
       "      <th></th>\n",
       "      <th></th>\n",
       "      <th></th>\n",
       "    </tr>\n",
       "  </thead>\n",
       "  <tbody>\n",
       "    <tr>\n",
       "      <th>1</th>\n",
       "      <td>0</td>\n",
       "      <td>3</td>\n",
       "      <td>Braund, Mr. Owen Harris</td>\n",
       "      <td>male</td>\n",
       "      <td>22.0</td>\n",
       "      <td>1</td>\n",
       "      <td>0</td>\n",
       "      <td>A/5 21171</td>\n",
       "      <td>7.2500</td>\n",
       "      <td>NaN</td>\n",
       "      <td>S</td>\n",
       "    </tr>\n",
       "    <tr>\n",
       "      <th>2</th>\n",
       "      <td>1</td>\n",
       "      <td>1</td>\n",
       "      <td>Cumings, Mrs. John Bradley (Florence Briggs Th...</td>\n",
       "      <td>female</td>\n",
       "      <td>38.0</td>\n",
       "      <td>1</td>\n",
       "      <td>0</td>\n",
       "      <td>PC 17599</td>\n",
       "      <td>71.2833</td>\n",
       "      <td>C85</td>\n",
       "      <td>C</td>\n",
       "    </tr>\n",
       "    <tr>\n",
       "      <th>3</th>\n",
       "      <td>1</td>\n",
       "      <td>3</td>\n",
       "      <td>Heikkinen, Miss. Laina</td>\n",
       "      <td>female</td>\n",
       "      <td>26.0</td>\n",
       "      <td>0</td>\n",
       "      <td>0</td>\n",
       "      <td>STON/O2. 3101282</td>\n",
       "      <td>7.9250</td>\n",
       "      <td>NaN</td>\n",
       "      <td>S</td>\n",
       "    </tr>\n",
       "    <tr>\n",
       "      <th>4</th>\n",
       "      <td>1</td>\n",
       "      <td>1</td>\n",
       "      <td>Futrelle, Mrs. Jacques Heath (Lily May Peel)</td>\n",
       "      <td>female</td>\n",
       "      <td>35.0</td>\n",
       "      <td>1</td>\n",
       "      <td>0</td>\n",
       "      <td>113803</td>\n",
       "      <td>53.1000</td>\n",
       "      <td>C123</td>\n",
       "      <td>S</td>\n",
       "    </tr>\n",
       "    <tr>\n",
       "      <th>5</th>\n",
       "      <td>0</td>\n",
       "      <td>3</td>\n",
       "      <td>Allen, Mr. William Henry</td>\n",
       "      <td>male</td>\n",
       "      <td>35.0</td>\n",
       "      <td>0</td>\n",
       "      <td>0</td>\n",
       "      <td>373450</td>\n",
       "      <td>8.0500</td>\n",
       "      <td>NaN</td>\n",
       "      <td>S</td>\n",
       "    </tr>\n",
       "  </tbody>\n",
       "</table>\n",
       "</div>"
      ],
      "text/plain": [
       "             Survived  Pclass  \\\n",
       "PassengerId                     \n",
       "1                   0       3   \n",
       "2                   1       1   \n",
       "3                   1       3   \n",
       "4                   1       1   \n",
       "5                   0       3   \n",
       "\n",
       "                                                          Name     Sex   Age  \\\n",
       "PassengerId                                                                    \n",
       "1                                      Braund, Mr. Owen Harris    male  22.0   \n",
       "2            Cumings, Mrs. John Bradley (Florence Briggs Th...  female  38.0   \n",
       "3                                       Heikkinen, Miss. Laina  female  26.0   \n",
       "4                 Futrelle, Mrs. Jacques Heath (Lily May Peel)  female  35.0   \n",
       "5                                     Allen, Mr. William Henry    male  35.0   \n",
       "\n",
       "             SibSp  Parch            Ticket     Fare Cabin Embarked  \n",
       "PassengerId                                                          \n",
       "1                1      0         A/5 21171   7.2500   NaN        S  \n",
       "2                1      0          PC 17599  71.2833   C85        C  \n",
       "3                0      0  STON/O2. 3101282   7.9250   NaN        S  \n",
       "4                1      0            113803  53.1000  C123        S  \n",
       "5                0      0            373450   8.0500   NaN        S  "
      ]
     },
     "execution_count": 2,
     "metadata": {},
     "output_type": "execute_result"
    }
   ],
   "source": [
    "df = pd.read_csv('../input/titanic/train.csv', index_col='PassengerId')\n",
    "df.head()"
   ]
  },
  {
   "cell_type": "code",
   "execution_count": 3,
   "id": "193cea55",
   "metadata": {
    "execution": {
     "iopub.execute_input": "2022-09-01T15:04:29.832999Z",
     "iopub.status.busy": "2022-09-01T15:04:29.831927Z",
     "iopub.status.idle": "2022-09-01T15:04:29.850054Z",
     "shell.execute_reply": "2022-09-01T15:04:29.848715Z"
    },
    "papermill": {
     "duration": 0.028678,
     "end_time": "2022-09-01T15:04:29.852935",
     "exception": false,
     "start_time": "2022-09-01T15:04:29.824257",
     "status": "completed"
    },
    "tags": []
   },
   "outputs": [
    {
     "data": {
      "text/html": [
       "<div>\n",
       "<style scoped>\n",
       "    .dataframe tbody tr th:only-of-type {\n",
       "        vertical-align: middle;\n",
       "    }\n",
       "\n",
       "    .dataframe tbody tr th {\n",
       "        vertical-align: top;\n",
       "    }\n",
       "\n",
       "    .dataframe thead th {\n",
       "        text-align: right;\n",
       "    }\n",
       "</style>\n",
       "<table border=\"1\" class=\"dataframe\">\n",
       "  <thead>\n",
       "    <tr style=\"text-align: right;\">\n",
       "      <th></th>\n",
       "      <th>Survived</th>\n",
       "      <th>Pclass</th>\n",
       "      <th>Name</th>\n",
       "      <th>Sex</th>\n",
       "      <th>Age</th>\n",
       "      <th>SibSp</th>\n",
       "      <th>Parch</th>\n",
       "      <th>Ticket</th>\n",
       "      <th>Fare</th>\n",
       "      <th>Cabin</th>\n",
       "      <th>Embarked</th>\n",
       "    </tr>\n",
       "    <tr>\n",
       "      <th>PassengerId</th>\n",
       "      <th></th>\n",
       "      <th></th>\n",
       "      <th></th>\n",
       "      <th></th>\n",
       "      <th></th>\n",
       "      <th></th>\n",
       "      <th></th>\n",
       "      <th></th>\n",
       "      <th></th>\n",
       "      <th></th>\n",
       "      <th></th>\n",
       "    </tr>\n",
       "  </thead>\n",
       "  <tbody>\n",
       "    <tr>\n",
       "      <th>1</th>\n",
       "      <td>0</td>\n",
       "      <td>3</td>\n",
       "      <td>Braund, Mr. Owen Harris</td>\n",
       "      <td>male</td>\n",
       "      <td>22.0</td>\n",
       "      <td>1</td>\n",
       "      <td>0</td>\n",
       "      <td>A/5 21171</td>\n",
       "      <td>7.2500</td>\n",
       "      <td>NaN</td>\n",
       "      <td>S</td>\n",
       "    </tr>\n",
       "    <tr>\n",
       "      <th>2</th>\n",
       "      <td>1</td>\n",
       "      <td>1</td>\n",
       "      <td>Cumings, Mrs. John Bradley (Florence Briggs Th...</td>\n",
       "      <td>female</td>\n",
       "      <td>38.0</td>\n",
       "      <td>1</td>\n",
       "      <td>0</td>\n",
       "      <td>PC 17599</td>\n",
       "      <td>71.2833</td>\n",
       "      <td>C85</td>\n",
       "      <td>C</td>\n",
       "    </tr>\n",
       "    <tr>\n",
       "      <th>3</th>\n",
       "      <td>1</td>\n",
       "      <td>3</td>\n",
       "      <td>Heikkinen, Miss. Laina</td>\n",
       "      <td>female</td>\n",
       "      <td>26.0</td>\n",
       "      <td>0</td>\n",
       "      <td>0</td>\n",
       "      <td>STON/O2. 3101282</td>\n",
       "      <td>7.9250</td>\n",
       "      <td>NaN</td>\n",
       "      <td>S</td>\n",
       "    </tr>\n",
       "    <tr>\n",
       "      <th>4</th>\n",
       "      <td>1</td>\n",
       "      <td>1</td>\n",
       "      <td>Futrelle, Mrs. Jacques Heath (Lily May Peel)</td>\n",
       "      <td>female</td>\n",
       "      <td>35.0</td>\n",
       "      <td>1</td>\n",
       "      <td>0</td>\n",
       "      <td>113803</td>\n",
       "      <td>53.1000</td>\n",
       "      <td>C123</td>\n",
       "      <td>S</td>\n",
       "    </tr>\n",
       "    <tr>\n",
       "      <th>5</th>\n",
       "      <td>0</td>\n",
       "      <td>3</td>\n",
       "      <td>Allen, Mr. William Henry</td>\n",
       "      <td>male</td>\n",
       "      <td>35.0</td>\n",
       "      <td>0</td>\n",
       "      <td>0</td>\n",
       "      <td>373450</td>\n",
       "      <td>8.0500</td>\n",
       "      <td>NaN</td>\n",
       "      <td>S</td>\n",
       "    </tr>\n",
       "  </tbody>\n",
       "</table>\n",
       "</div>"
      ],
      "text/plain": [
       "             Survived  Pclass  \\\n",
       "PassengerId                     \n",
       "1                   0       3   \n",
       "2                   1       1   \n",
       "3                   1       3   \n",
       "4                   1       1   \n",
       "5                   0       3   \n",
       "\n",
       "                                                          Name     Sex   Age  \\\n",
       "PassengerId                                                                    \n",
       "1                                      Braund, Mr. Owen Harris    male  22.0   \n",
       "2            Cumings, Mrs. John Bradley (Florence Briggs Th...  female  38.0   \n",
       "3                                       Heikkinen, Miss. Laina  female  26.0   \n",
       "4                 Futrelle, Mrs. Jacques Heath (Lily May Peel)  female  35.0   \n",
       "5                                     Allen, Mr. William Henry    male  35.0   \n",
       "\n",
       "             SibSp  Parch            Ticket     Fare Cabin Embarked  \n",
       "PassengerId                                                          \n",
       "1                1      0         A/5 21171   7.2500   NaN        S  \n",
       "2                1      0          PC 17599  71.2833   C85        C  \n",
       "3                0      0  STON/O2. 3101282   7.9250   NaN        S  \n",
       "4                1      0            113803  53.1000  C123        S  \n",
       "5                0      0            373450   8.0500   NaN        S  "
      ]
     },
     "execution_count": 3,
     "metadata": {},
     "output_type": "execute_result"
    }
   ],
   "source": [
    "df.head()"
   ]
  },
  {
   "cell_type": "code",
   "execution_count": 4,
   "id": "59fc4dbd",
   "metadata": {
    "execution": {
     "iopub.execute_input": "2022-09-01T15:04:29.867594Z",
     "iopub.status.busy": "2022-09-01T15:04:29.866415Z",
     "iopub.status.idle": "2022-09-01T15:04:29.873867Z",
     "shell.execute_reply": "2022-09-01T15:04:29.872759Z"
    },
    "papermill": {
     "duration": 0.017271,
     "end_time": "2022-09-01T15:04:29.876371",
     "exception": false,
     "start_time": "2022-09-01T15:04:29.859100",
     "status": "completed"
    },
    "tags": []
   },
   "outputs": [
    {
     "data": {
      "text/plain": [
       "(891, 11)"
      ]
     },
     "execution_count": 4,
     "metadata": {},
     "output_type": "execute_result"
    }
   ],
   "source": [
    "df.shape"
   ]
  },
  {
   "cell_type": "code",
   "execution_count": 5,
   "id": "c46db329",
   "metadata": {
    "execution": {
     "iopub.execute_input": "2022-09-01T15:04:29.891774Z",
     "iopub.status.busy": "2022-09-01T15:04:29.890610Z",
     "iopub.status.idle": "2022-09-01T15:04:29.901379Z",
     "shell.execute_reply": "2022-09-01T15:04:29.900263Z"
    },
    "papermill": {
     "duration": 0.020715,
     "end_time": "2022-09-01T15:04:29.903598",
     "exception": false,
     "start_time": "2022-09-01T15:04:29.882883",
     "status": "completed"
    },
    "tags": []
   },
   "outputs": [
    {
     "data": {
      "text/plain": [
       "Survived      0\n",
       "Pclass        0\n",
       "Name          0\n",
       "Sex           0\n",
       "Age         177\n",
       "SibSp         0\n",
       "Parch         0\n",
       "Ticket        0\n",
       "Fare          0\n",
       "Cabin       687\n",
       "Embarked      2\n",
       "dtype: int64"
      ]
     },
     "execution_count": 5,
     "metadata": {},
     "output_type": "execute_result"
    }
   ],
   "source": [
    "df.isna().sum()"
   ]
  },
  {
   "cell_type": "markdown",
   "id": "a86f2058",
   "metadata": {
    "papermill": {
     "duration": 0.005932,
     "end_time": "2022-09-01T15:04:29.915814",
     "exception": false,
     "start_time": "2022-09-01T15:04:29.909882",
     "status": "completed"
    },
    "tags": []
   },
   "source": [
    "### processing"
   ]
  },
  {
   "cell_type": "code",
   "execution_count": 6,
   "id": "4524a18b",
   "metadata": {
    "execution": {
     "iopub.execute_input": "2022-09-01T15:04:29.930585Z",
     "iopub.status.busy": "2022-09-01T15:04:29.929558Z",
     "iopub.status.idle": "2022-09-01T15:04:29.939746Z",
     "shell.execute_reply": "2022-09-01T15:04:29.938690Z"
    },
    "papermill": {
     "duration": 0.020857,
     "end_time": "2022-09-01T15:04:29.942912",
     "exception": false,
     "start_time": "2022-09-01T15:04:29.922055",
     "status": "completed"
    },
    "tags": []
   },
   "outputs": [],
   "source": [
    "def processing(data):\n",
    "    # Title\n",
    "    '''\n",
    "    Get Title from Name column\n",
    "    '''\n",
    "    data['Title'] = data.Name.apply(lambda x: re.findall(' ([a-zA-Z]+)\\.', x)[0])\n",
    "    data['Title'] = data.Title.replace(['Major', 'Sir', 'Jonkheer', 'Dr','Col','Don', 'Capt','Rev'], 'Mr')\n",
    "    data['Title'] = data.Title.replace(['Ms','Lady', 'Countess','Dona'], 'Mrs')\n",
    "    data['Title'] = data.Title.replace(['Mme','Mlle'], 'Miss')\n",
    "    \n",
    "    # Age\n",
    "    '''\n",
    "    Fill missing value Age column from groupby Pclass and Title and get mean Age \n",
    "    '''\n",
    "    data['Age'] = data.groupby(['Pclass', 'Title'])['Age'].apply(lambda x: x.fillna(x.mean()))\n",
    "    \n",
    "    # Embarked\n",
    "    '''\n",
    "    fill missing value Embarked column with most common value : (S)\n",
    "    '''\n",
    "    data['Embarked'] = data['Embarked'].fillna('S')\n",
    "    \n",
    "    # Cabin\n",
    "    '''\n",
    "    '''\n",
    "    df['Cabin'] = df['Cabin'].fillna('N')\n",
    "    df['Cabin'] = df['Cabin'].apply(lambda x: x[0])\n",
    "    df['Cabin'] = df['Cabin'].apply(lambda x: 0 if x in ['A', 'B', 'C', 'D','E', 'F', 'G', 'T'] else 1)\n",
    "    \n",
    "    # Drop features\n",
    "    data.drop(columns=['Name', 'Ticket'], inplace=True)\n",
    "    \n",
    "    return data"
   ]
  },
  {
   "cell_type": "code",
   "execution_count": 7,
   "id": "8a2a4bca",
   "metadata": {
    "execution": {
     "iopub.execute_input": "2022-09-01T15:04:29.958225Z",
     "iopub.status.busy": "2022-09-01T15:04:29.957425Z",
     "iopub.status.idle": "2022-09-01T15:04:29.999810Z",
     "shell.execute_reply": "2022-09-01T15:04:29.998363Z"
    },
    "papermill": {
     "duration": 0.053337,
     "end_time": "2022-09-01T15:04:30.003036",
     "exception": false,
     "start_time": "2022-09-01T15:04:29.949699",
     "status": "completed"
    },
    "tags": []
   },
   "outputs": [
    {
     "data": {
      "text/html": [
       "<div>\n",
       "<style scoped>\n",
       "    .dataframe tbody tr th:only-of-type {\n",
       "        vertical-align: middle;\n",
       "    }\n",
       "\n",
       "    .dataframe tbody tr th {\n",
       "        vertical-align: top;\n",
       "    }\n",
       "\n",
       "    .dataframe thead th {\n",
       "        text-align: right;\n",
       "    }\n",
       "</style>\n",
       "<table border=\"1\" class=\"dataframe\">\n",
       "  <thead>\n",
       "    <tr style=\"text-align: right;\">\n",
       "      <th></th>\n",
       "      <th>Survived</th>\n",
       "      <th>Pclass</th>\n",
       "      <th>Sex</th>\n",
       "      <th>Age</th>\n",
       "      <th>SibSp</th>\n",
       "      <th>Parch</th>\n",
       "      <th>Fare</th>\n",
       "      <th>Embarked</th>\n",
       "      <th>Title</th>\n",
       "    </tr>\n",
       "    <tr>\n",
       "      <th>PassengerId</th>\n",
       "      <th></th>\n",
       "      <th></th>\n",
       "      <th></th>\n",
       "      <th></th>\n",
       "      <th></th>\n",
       "      <th></th>\n",
       "      <th></th>\n",
       "      <th></th>\n",
       "      <th></th>\n",
       "    </tr>\n",
       "  </thead>\n",
       "  <tbody>\n",
       "    <tr>\n",
       "      <th>1</th>\n",
       "      <td>0</td>\n",
       "      <td>3</td>\n",
       "      <td>male</td>\n",
       "      <td>22.0</td>\n",
       "      <td>1</td>\n",
       "      <td>0</td>\n",
       "      <td>7.2500</td>\n",
       "      <td>S</td>\n",
       "      <td>Mr</td>\n",
       "    </tr>\n",
       "    <tr>\n",
       "      <th>2</th>\n",
       "      <td>1</td>\n",
       "      <td>1</td>\n",
       "      <td>female</td>\n",
       "      <td>38.0</td>\n",
       "      <td>1</td>\n",
       "      <td>0</td>\n",
       "      <td>71.2833</td>\n",
       "      <td>C</td>\n",
       "      <td>Mrs</td>\n",
       "    </tr>\n",
       "    <tr>\n",
       "      <th>3</th>\n",
       "      <td>1</td>\n",
       "      <td>3</td>\n",
       "      <td>female</td>\n",
       "      <td>26.0</td>\n",
       "      <td>0</td>\n",
       "      <td>0</td>\n",
       "      <td>7.9250</td>\n",
       "      <td>S</td>\n",
       "      <td>Miss</td>\n",
       "    </tr>\n",
       "    <tr>\n",
       "      <th>4</th>\n",
       "      <td>1</td>\n",
       "      <td>1</td>\n",
       "      <td>female</td>\n",
       "      <td>35.0</td>\n",
       "      <td>1</td>\n",
       "      <td>0</td>\n",
       "      <td>53.1000</td>\n",
       "      <td>S</td>\n",
       "      <td>Mrs</td>\n",
       "    </tr>\n",
       "    <tr>\n",
       "      <th>5</th>\n",
       "      <td>0</td>\n",
       "      <td>3</td>\n",
       "      <td>male</td>\n",
       "      <td>35.0</td>\n",
       "      <td>0</td>\n",
       "      <td>0</td>\n",
       "      <td>8.0500</td>\n",
       "      <td>S</td>\n",
       "      <td>Mr</td>\n",
       "    </tr>\n",
       "  </tbody>\n",
       "</table>\n",
       "</div>"
      ],
      "text/plain": [
       "             Survived  Pclass     Sex   Age  SibSp  Parch     Fare Embarked  \\\n",
       "PassengerId                                                                   \n",
       "1                   0       3    male  22.0      1      0   7.2500        S   \n",
       "2                   1       1  female  38.0      1      0  71.2833        C   \n",
       "3                   1       3  female  26.0      0      0   7.9250        S   \n",
       "4                   1       1  female  35.0      1      0  53.1000        S   \n",
       "5                   0       3    male  35.0      0      0   8.0500        S   \n",
       "\n",
       "            Title  \n",
       "PassengerId        \n",
       "1              Mr  \n",
       "2             Mrs  \n",
       "3            Miss  \n",
       "4             Mrs  \n",
       "5              Mr  "
      ]
     },
     "execution_count": 7,
     "metadata": {},
     "output_type": "execute_result"
    }
   ],
   "source": [
    "df = processing(df)\n",
    "df.head()"
   ]
  },
  {
   "cell_type": "markdown",
   "id": "a7fb11b8",
   "metadata": {
    "papermill": {
     "duration": 0.006759,
     "end_time": "2022-09-01T15:04:30.017805",
     "exception": false,
     "start_time": "2022-09-01T15:04:30.011046",
     "status": "completed"
    },
    "tags": []
   },
   "source": [
    "# Dataset Splitting"
   ]
  },
  {
   "cell_type": "code",
   "execution_count": 8,
   "id": "193bf0ff",
   "metadata": {
    "execution": {
     "iopub.execute_input": "2022-09-01T15:04:30.033691Z",
     "iopub.status.busy": "2022-09-01T15:04:30.033132Z",
     "iopub.status.idle": "2022-09-01T15:04:30.051104Z",
     "shell.execute_reply": "2022-09-01T15:04:30.049850Z"
    },
    "papermill": {
     "duration": 0.029216,
     "end_time": "2022-09-01T15:04:30.053954",
     "exception": false,
     "start_time": "2022-09-01T15:04:30.024738",
     "status": "completed"
    },
    "tags": []
   },
   "outputs": [
    {
     "data": {
      "text/plain": [
       "((712, 8), (179, 8), (712,), (179,))"
      ]
     },
     "execution_count": 8,
     "metadata": {},
     "output_type": "execute_result"
    }
   ],
   "source": [
    "X = df.drop(columns='Survived')\n",
    "y = df.Survived\n",
    "\n",
    "X_train, X_test, y_train, y_test = train_test_split(X, y, test_size=0.2, stratify=y, random_state=42)\n",
    "X_train.shape, X_test.shape, y_train.shape, y_test.shape"
   ]
  },
  {
   "cell_type": "markdown",
   "id": "285c5260",
   "metadata": {
    "papermill": {
     "duration": 0.006439,
     "end_time": "2022-09-01T15:04:30.067480",
     "exception": false,
     "start_time": "2022-09-01T15:04:30.061041",
     "status": "completed"
    },
    "tags": []
   },
   "source": [
    "# Preprocessor"
   ]
  },
  {
   "cell_type": "code",
   "execution_count": 9,
   "id": "e67a9849",
   "metadata": {
    "execution": {
     "iopub.execute_input": "2022-09-01T15:04:30.083491Z",
     "iopub.status.busy": "2022-09-01T15:04:30.082252Z",
     "iopub.status.idle": "2022-09-01T15:04:30.090057Z",
     "shell.execute_reply": "2022-09-01T15:04:30.088837Z"
    },
    "papermill": {
     "duration": 0.018259,
     "end_time": "2022-09-01T15:04:30.092434",
     "exception": false,
     "start_time": "2022-09-01T15:04:30.074175",
     "status": "completed"
    },
    "tags": []
   },
   "outputs": [],
   "source": [
    "numerical_pipeline = Pipeline([\n",
    "    ('imputer', SimpleImputer(strategy='mean')),\n",
    "    ('poly', PolynomialFeatures())\n",
    "])\n",
    "\n",
    "categorical_pipeline = Pipeline([\n",
    "    ('imputer', SimpleImputer(strategy='most_frequent')),\n",
    "    ('onehot', OneHotEncoder(handle_unknown='ignore'))\n",
    "])\n",
    "\n",
    "preprocessor = ColumnTransformer([\n",
    "    ('numeric', numerical_pipeline, ['SibSp', 'Parch', 'Fare']),\n",
    "    ('categoric', categorical_pipeline, ['Pclass', 'Sex', 'SibSp', 'Embarked', 'Title'])\n",
    "])"
   ]
  },
  {
   "cell_type": "markdown",
   "id": "cc2b81f0",
   "metadata": {
    "papermill": {
     "duration": 0.006285,
     "end_time": "2022-09-01T15:04:30.106428",
     "exception": false,
     "start_time": "2022-09-01T15:04:30.100143",
     "status": "completed"
    },
    "tags": []
   },
   "source": [
    "# Pipeline"
   ]
  },
  {
   "cell_type": "code",
   "execution_count": 10,
   "id": "776b86bb",
   "metadata": {
    "execution": {
     "iopub.execute_input": "2022-09-01T15:04:30.122180Z",
     "iopub.status.busy": "2022-09-01T15:04:30.121414Z",
     "iopub.status.idle": "2022-09-01T15:04:30.127875Z",
     "shell.execute_reply": "2022-09-01T15:04:30.126815Z"
    },
    "papermill": {
     "duration": 0.017291,
     "end_time": "2022-09-01T15:04:30.130413",
     "exception": false,
     "start_time": "2022-09-01T15:04:30.113122",
     "status": "completed"
    },
    "tags": []
   },
   "outputs": [],
   "source": [
    "pipeline = Pipeline([\n",
    "    ('prep', preprocessor),\n",
    "    ('algo', RandomForestClassifier(n_jobs=-1, random_state=42))\n",
    "])\n",
    "\n",
    "parameter = {\n",
    "    'prep__numeric__poly__degree': [3],\n",
    "    'prep__numeric__poly__interaction_only': [True],\n",
    "    'algo__max_depth': [48],\n",
    "    'algo__max_features': [0.5768062890209851],\n",
    "    'algo__min_samples_leaf': [10],\n",
    "    'algo__n_estimators': [100]\n",
    "}"
   ]
  },
  {
   "cell_type": "markdown",
   "id": "e86908a0",
   "metadata": {
    "papermill": {
     "duration": 0.006456,
     "end_time": "2022-09-01T15:04:30.143655",
     "exception": false,
     "start_time": "2022-09-01T15:04:30.137199",
     "status": "completed"
    },
    "tags": []
   },
   "source": [
    "# Tunning"
   ]
  },
  {
   "cell_type": "code",
   "execution_count": 11,
   "id": "0b799926",
   "metadata": {
    "execution": {
     "iopub.execute_input": "2022-09-01T15:04:30.159262Z",
     "iopub.status.busy": "2022-09-01T15:04:30.158239Z",
     "iopub.status.idle": "2022-09-01T15:04:32.851942Z",
     "shell.execute_reply": "2022-09-01T15:04:32.850278Z"
    },
    "papermill": {
     "duration": 2.704481,
     "end_time": "2022-09-01T15:04:32.854806",
     "exception": false,
     "start_time": "2022-09-01T15:04:30.150325",
     "status": "completed"
    },
    "tags": []
   },
   "outputs": [
    {
     "name": "stdout",
     "output_type": "stream",
     "text": [
      "Fitting 3 folds for each of 1 candidates, totalling 3 fits\n",
      "\n",
      "Best params : {'algo__max_depth': 48, 'algo__max_features': 0.5768062890209851, 'algo__min_samples_leaf': 10, 'algo__n_estimators': 100, 'prep__numeric__poly__degree': 3, 'prep__numeric__poly__interaction_only': True}\n",
      "Best score  : 0.8216383599853444\n",
      "Train score : 0.8525280898876404\n",
      "Test score  : 0.8435754189944135\n",
      "\n"
     ]
    }
   ],
   "source": [
    "model = GridSearchCV(pipeline, param_grid=parameter, cv=3, n_jobs=-1, verbose=1)\n",
    "model.fit(X_train, y_train)\n",
    "\n",
    "print(f'''\n",
    "Best params : {model.best_params_}\n",
    "Best score  : {model.best_score_}\n",
    "Train score : {model.score(X_train, y_train)}\n",
    "Test score  : {model.score(X_test, y_test)}\n",
    "''')"
   ]
  },
  {
   "cell_type": "markdown",
   "id": "06484fba",
   "metadata": {
    "papermill": {
     "duration": 0.006414,
     "end_time": "2022-09-01T15:04:32.867991",
     "exception": false,
     "start_time": "2022-09-01T15:04:32.861577",
     "status": "completed"
    },
    "tags": []
   },
   "source": [
    "# Submission"
   ]
  },
  {
   "cell_type": "code",
   "execution_count": 12,
   "id": "559c0104",
   "metadata": {
    "execution": {
     "iopub.execute_input": "2022-09-01T15:04:32.883304Z",
     "iopub.status.busy": "2022-09-01T15:04:32.882884Z",
     "iopub.status.idle": "2022-09-01T15:04:32.920759Z",
     "shell.execute_reply": "2022-09-01T15:04:32.919695Z"
    },
    "papermill": {
     "duration": 0.048426,
     "end_time": "2022-09-01T15:04:32.923225",
     "exception": false,
     "start_time": "2022-09-01T15:04:32.874799",
     "status": "completed"
    },
    "tags": []
   },
   "outputs": [
    {
     "data": {
      "text/html": [
       "<div>\n",
       "<style scoped>\n",
       "    .dataframe tbody tr th:only-of-type {\n",
       "        vertical-align: middle;\n",
       "    }\n",
       "\n",
       "    .dataframe tbody tr th {\n",
       "        vertical-align: top;\n",
       "    }\n",
       "\n",
       "    .dataframe thead th {\n",
       "        text-align: right;\n",
       "    }\n",
       "</style>\n",
       "<table border=\"1\" class=\"dataframe\">\n",
       "  <thead>\n",
       "    <tr style=\"text-align: right;\">\n",
       "      <th></th>\n",
       "      <th>Pclass</th>\n",
       "      <th>Sex</th>\n",
       "      <th>Age</th>\n",
       "      <th>SibSp</th>\n",
       "      <th>Parch</th>\n",
       "      <th>Fare</th>\n",
       "      <th>Embarked</th>\n",
       "      <th>Title</th>\n",
       "    </tr>\n",
       "    <tr>\n",
       "      <th>PassengerId</th>\n",
       "      <th></th>\n",
       "      <th></th>\n",
       "      <th></th>\n",
       "      <th></th>\n",
       "      <th></th>\n",
       "      <th></th>\n",
       "      <th></th>\n",
       "      <th></th>\n",
       "    </tr>\n",
       "  </thead>\n",
       "  <tbody>\n",
       "    <tr>\n",
       "      <th>892</th>\n",
       "      <td>3</td>\n",
       "      <td>male</td>\n",
       "      <td>34.5</td>\n",
       "      <td>0</td>\n",
       "      <td>0</td>\n",
       "      <td>7.8292</td>\n",
       "      <td>Q</td>\n",
       "      <td>Mr</td>\n",
       "    </tr>\n",
       "    <tr>\n",
       "      <th>893</th>\n",
       "      <td>3</td>\n",
       "      <td>female</td>\n",
       "      <td>47.0</td>\n",
       "      <td>1</td>\n",
       "      <td>0</td>\n",
       "      <td>7.0000</td>\n",
       "      <td>S</td>\n",
       "      <td>Mrs</td>\n",
       "    </tr>\n",
       "    <tr>\n",
       "      <th>894</th>\n",
       "      <td>2</td>\n",
       "      <td>male</td>\n",
       "      <td>62.0</td>\n",
       "      <td>0</td>\n",
       "      <td>0</td>\n",
       "      <td>9.6875</td>\n",
       "      <td>Q</td>\n",
       "      <td>Mr</td>\n",
       "    </tr>\n",
       "    <tr>\n",
       "      <th>895</th>\n",
       "      <td>3</td>\n",
       "      <td>male</td>\n",
       "      <td>27.0</td>\n",
       "      <td>0</td>\n",
       "      <td>0</td>\n",
       "      <td>8.6625</td>\n",
       "      <td>S</td>\n",
       "      <td>Mr</td>\n",
       "    </tr>\n",
       "    <tr>\n",
       "      <th>896</th>\n",
       "      <td>3</td>\n",
       "      <td>female</td>\n",
       "      <td>22.0</td>\n",
       "      <td>1</td>\n",
       "      <td>1</td>\n",
       "      <td>12.2875</td>\n",
       "      <td>S</td>\n",
       "      <td>Mrs</td>\n",
       "    </tr>\n",
       "  </tbody>\n",
       "</table>\n",
       "</div>"
      ],
      "text/plain": [
       "             Pclass     Sex   Age  SibSp  Parch     Fare Embarked Title\n",
       "PassengerId                                                            \n",
       "892               3    male  34.5      0      0   7.8292        Q    Mr\n",
       "893               3  female  47.0      1      0   7.0000        S   Mrs\n",
       "894               2    male  62.0      0      0   9.6875        Q    Mr\n",
       "895               3    male  27.0      0      0   8.6625        S    Mr\n",
       "896               3  female  22.0      1      1  12.2875        S   Mrs"
      ]
     },
     "execution_count": 12,
     "metadata": {},
     "output_type": "execute_result"
    }
   ],
   "source": [
    "pred = pd.read_csv('../input/titanic/test.csv', index_col='PassengerId')\n",
    "pred = processing(pred)\n",
    "pred.head()"
   ]
  },
  {
   "cell_type": "code",
   "execution_count": 13,
   "id": "4b266a15",
   "metadata": {
    "execution": {
     "iopub.execute_input": "2022-09-01T15:04:32.939285Z",
     "iopub.status.busy": "2022-09-01T15:04:32.938522Z",
     "iopub.status.idle": "2022-09-01T15:04:33.059084Z",
     "shell.execute_reply": "2022-09-01T15:04:33.057867Z"
    },
    "papermill": {
     "duration": 0.131769,
     "end_time": "2022-09-01T15:04:33.061830",
     "exception": false,
     "start_time": "2022-09-01T15:04:32.930061",
     "status": "completed"
    },
    "tags": []
   },
   "outputs": [],
   "source": [
    "submission = pd.read_csv('../input/titanic/gender_submission.csv')\n",
    "submission['Survived'] = model.predict(pred)"
   ]
  },
  {
   "cell_type": "code",
   "execution_count": 14,
   "id": "b004d472",
   "metadata": {
    "execution": {
     "iopub.execute_input": "2022-09-01T15:04:33.078540Z",
     "iopub.status.busy": "2022-09-01T15:04:33.077456Z",
     "iopub.status.idle": "2022-09-01T15:04:33.085601Z",
     "shell.execute_reply": "2022-09-01T15:04:33.084708Z"
    },
    "papermill": {
     "duration": 0.018847,
     "end_time": "2022-09-01T15:04:33.087837",
     "exception": false,
     "start_time": "2022-09-01T15:04:33.068990",
     "status": "completed"
    },
    "tags": []
   },
   "outputs": [],
   "source": [
    "submission.to_csv('submission.csv', index=False)"
   ]
  },
  {
   "cell_type": "code",
   "execution_count": 15,
   "id": "6f84727c",
   "metadata": {
    "execution": {
     "iopub.execute_input": "2022-09-01T15:04:33.103759Z",
     "iopub.status.busy": "2022-09-01T15:04:33.103346Z",
     "iopub.status.idle": "2022-09-01T15:04:33.115569Z",
     "shell.execute_reply": "2022-09-01T15:04:33.114319Z"
    },
    "papermill": {
     "duration": 0.023055,
     "end_time": "2022-09-01T15:04:33.117965",
     "exception": false,
     "start_time": "2022-09-01T15:04:33.094910",
     "status": "completed"
    },
    "tags": []
   },
   "outputs": [
    {
     "data": {
      "text/html": [
       "<div>\n",
       "<style scoped>\n",
       "    .dataframe tbody tr th:only-of-type {\n",
       "        vertical-align: middle;\n",
       "    }\n",
       "\n",
       "    .dataframe tbody tr th {\n",
       "        vertical-align: top;\n",
       "    }\n",
       "\n",
       "    .dataframe thead th {\n",
       "        text-align: right;\n",
       "    }\n",
       "</style>\n",
       "<table border=\"1\" class=\"dataframe\">\n",
       "  <thead>\n",
       "    <tr style=\"text-align: right;\">\n",
       "      <th></th>\n",
       "      <th>PassengerId</th>\n",
       "      <th>Survived</th>\n",
       "    </tr>\n",
       "  </thead>\n",
       "  <tbody>\n",
       "    <tr>\n",
       "      <th>0</th>\n",
       "      <td>892</td>\n",
       "      <td>0</td>\n",
       "    </tr>\n",
       "    <tr>\n",
       "      <th>1</th>\n",
       "      <td>893</td>\n",
       "      <td>1</td>\n",
       "    </tr>\n",
       "    <tr>\n",
       "      <th>2</th>\n",
       "      <td>894</td>\n",
       "      <td>0</td>\n",
       "    </tr>\n",
       "    <tr>\n",
       "      <th>3</th>\n",
       "      <td>895</td>\n",
       "      <td>0</td>\n",
       "    </tr>\n",
       "    <tr>\n",
       "      <th>4</th>\n",
       "      <td>896</td>\n",
       "      <td>0</td>\n",
       "    </tr>\n",
       "    <tr>\n",
       "      <th>...</th>\n",
       "      <td>...</td>\n",
       "      <td>...</td>\n",
       "    </tr>\n",
       "    <tr>\n",
       "      <th>413</th>\n",
       "      <td>1305</td>\n",
       "      <td>0</td>\n",
       "    </tr>\n",
       "    <tr>\n",
       "      <th>414</th>\n",
       "      <td>1306</td>\n",
       "      <td>1</td>\n",
       "    </tr>\n",
       "    <tr>\n",
       "      <th>415</th>\n",
       "      <td>1307</td>\n",
       "      <td>0</td>\n",
       "    </tr>\n",
       "    <tr>\n",
       "      <th>416</th>\n",
       "      <td>1308</td>\n",
       "      <td>0</td>\n",
       "    </tr>\n",
       "    <tr>\n",
       "      <th>417</th>\n",
       "      <td>1309</td>\n",
       "      <td>1</td>\n",
       "    </tr>\n",
       "  </tbody>\n",
       "</table>\n",
       "<p>418 rows × 2 columns</p>\n",
       "</div>"
      ],
      "text/plain": [
       "     PassengerId  Survived\n",
       "0            892         0\n",
       "1            893         1\n",
       "2            894         0\n",
       "3            895         0\n",
       "4            896         0\n",
       "..           ...       ...\n",
       "413         1305         0\n",
       "414         1306         1\n",
       "415         1307         0\n",
       "416         1308         0\n",
       "417         1309         1\n",
       "\n",
       "[418 rows x 2 columns]"
      ]
     },
     "execution_count": 15,
     "metadata": {},
     "output_type": "execute_result"
    }
   ],
   "source": [
    "submission"
   ]
  }
 ],
 "metadata": {
  "kernelspec": {
   "display_name": "Python [conda env:learning]",
   "language": "python",
   "name": "conda-env-learning-py"
  },
  "language_info": {
   "codemirror_mode": {
    "name": "ipython",
    "version": 3
   },
   "file_extension": ".py",
   "mimetype": "text/x-python",
   "name": "python",
   "nbconvert_exporter": "python",
   "pygments_lexer": "ipython3",
   "version": "3.7.6"
  },
  "papermill": {
   "default_parameters": {},
   "duration": 17.400716,
   "end_time": "2022-09-01T15:04:35.746102",
   "environment_variables": {},
   "exception": null,
   "input_path": "__notebook__.ipynb",
   "output_path": "__notebook__.ipynb",
   "parameters": {},
   "start_time": "2022-09-01T15:04:18.345386",
   "version": "2.3.4"
  },
  "varInspector": {
   "cols": {
    "lenName": 16,
    "lenType": 16,
    "lenVar": 40
   },
   "kernels_config": {
    "python": {
     "delete_cmd_postfix": "",
     "delete_cmd_prefix": "del ",
     "library": "var_list.py",
     "varRefreshCmd": "print(var_dic_list())"
    },
    "r": {
     "delete_cmd_postfix": ") ",
     "delete_cmd_prefix": "rm(",
     "library": "var_list.r",
     "varRefreshCmd": "cat(var_dic_list()) "
    }
   },
   "types_to_exclude": [
    "module",
    "function",
    "builtin_function_or_method",
    "instance",
    "_Feature"
   ],
   "window_display": false
  }
 },
 "nbformat": 4,
 "nbformat_minor": 5
}
